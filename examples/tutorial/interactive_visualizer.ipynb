{
 "cells": [
  {
   "cell_type": "markdown",
   "id": "43840b4a-f9dc-4076-b1bf-5276da05f4ea",
   "metadata": {
    "tags": []
   },
   "source": [
    "# Interactive visualizer\n",
    "Using [Interactive visualizers](https://kaolin.readthedocs.io/en/latest/modules/kaolin.visualize.html) you can bring your own renderer and connect it to the visualizer with live mouse camera control right in the notebook, for example to debug your custom rendering function. The main condition is that the renderer has to take a [Camera](https://kaolin.readthedocs.io/en/latest/modules/kaolin.render.camera.camera.html#kaolin-render-camera-camera) as input.\n",
    "\n",
    "In this notebook, we show how to visualize differentiable rendering of a multi-material mesh from ShapeNet using spherical gaussians lighting. "
   ]
  },
  {
   "cell_type": "code",
   "execution_count": 1,
   "id": "69114969",
   "metadata": {
    "scrolled": true,
    "tags": []
   },
   "outputs": [],
   "source": [
    "import copy\n",
    "import glob\n",
    "import math\n",
    "import numpy as np\n",
    "import os\n",
    "import torch\n",
    "\n",
    "from tutorial_common import COMMON_DATA_DIR\n",
    "import kaolin as kal\n",
    "\n",
    "import nvdiffrast\n",
    "glctx = nvdiffrast.torch.RasterizeGLContext(False, device='cuda')"
   ]
  },
  {
   "cell_type": "markdown",
   "id": "dd8f9d9e",
   "metadata": {},
   "source": [
    "## Load Mesh information"
   ]
  },
  {
   "cell_type": "code",
   "execution_count": 2,
   "id": "4963d2ce",
   "metadata": {
    "tags": []
   },
   "outputs": [],
   "source": [
    "# Set KAOLIN_TEST_SHAPENETV2_PATH env variable, or replace by your shapenet path\n",
    "SHAPENETV2_PATH = os.getenv('KAOLIN_TEST_SHAPENETV2_PATH')\n",
    "\n",
    "if SHAPENETV2_PATH is not None:\n",
    "    ds = kal.io.shapenet.ShapeNetV2(root=SHAPENETV2_PATH,\n",
    "                                    categories=['car'],\n",
    "                                    train=True, split=1.,\n",
    "                                    with_materials=True,\n",
    "                                    output_dict=True)\n",
    "    mesh = ds[0]['mesh']\n",
    "else:\n",
    "    # Load a specific obj instead\n",
    "    OBJ_PATH = os.path.join(COMMON_DATA_DIR, 'meshes', 'fox.obj')\n",
    "    mesh = kal.io.obj.import_mesh(OBJ_PATH, with_materials=True, triangulate=True)\n",
    "\n",
    "# Normalize the data between [-0.5, 0.5]\n",
    "vertices = mesh.vertices.unsqueeze(0).cuda()\n",
    "vertices_min = vertices.min(dim=1, keepdims=True)[0]\n",
    "vertices_max = vertices.max(dim=1, keepdims=True)[0]\n",
    "vertices -= (vertices_max + vertices_min) / 2.\n",
    "vertices /= (vertices_max - vertices_min).max()\n",
    "faces = mesh.faces.cuda()\n",
    "\n",
    "# Here we are preprocessing the materials, assigning faces to materials and\n",
    "# using single diffuse color as backup when map doesn't exist (and face_uvs_idx == -1)\n",
    "uvs = torch.nn.functional.pad(mesh.uvs.unsqueeze(0).cuda(), (0, 0, 0, 1)) % 1.\n",
    "face_uvs_idx = mesh.face_uvs_idx.cuda()\n",
    "face_material_idx = mesh.material_assignments.cuda()\n",
    "diffuse_maps = [m['map_Kd'].permute(2, 0, 1).unsqueeze(0).cuda().float() / 255. if 'map_Kd' in m else\n",
    "                m['Kd'].reshape(1, 3, 1, 1).cuda()\n",
    "                for m in mesh.materials]\n",
    "specular_maps = [m['map_Ks'].permute(2, 0, 1).unsqueeze(0).cuda().float() / 255. if 'map_Ks' in m else\n",
    "                 m['Ks'].reshape(1, 3, 1, 1).cuda()\n",
    "                 for m in mesh.materials]\n",
    "nb_faces = faces.shape[0]\n",
    "\n",
    "mask = face_uvs_idx == -1\n",
    "face_uvs_idx[mask] = uvs.shape[1] - 1\n",
    "face_vertices = kal.ops.mesh.index_vertices_by_faces(vertices, faces)\n",
    "face_world_normals = kal.ops.mesh.face_normals(face_vertices, unit=True)"
   ]
  },
  {
   "cell_type": "markdown",
   "id": "03e898f4",
   "metadata": {},
   "source": [
    "## Instantiate a camera\n",
    "\n",
    "With the general constructor `Camera.from_args()` the underlying constructors are `CameraExtrinsics.from_lookat()` and `PinholeIntrinsics.from_fov` we will use this camera as a starting point for the visualizers."
   ]
  },
  {
   "cell_type": "code",
   "execution_count": 3,
   "id": "c6eee7ab",
   "metadata": {
    "tags": []
   },
   "outputs": [],
   "source": [
    "camera = kal.render.camera.Camera.from_args(eye=torch.tensor([2., 1., 1.], device='cuda'),\n",
    "                                            at=torch.tensor([0., 0., 0.]),\n",
    "                                            up=torch.tensor([1., 1., 1.]),\n",
    "                                            fov=math.pi * 45 / 180,\n",
    "                                            width=512, height=512, device='cuda')"
   ]
  },
  {
   "cell_type": "markdown",
   "id": "4fff8eb1",
   "metadata": {},
   "source": [
    "## Rendering a mesh\n",
    "\n",
    "Here we are rendering the loaded mesh with [nvdiffrast](https://github.com/NVlabs/nvdiffrast) using the camera object created above and use both diffuse and specular reflectance for lighting.\n",
    "\n",
    "For more information on lighting in Kaolin see [diffuse](./diffuse_lighting.ipynb) and [specular](./sg_specular_lighting.ipynb) tutorials and the [documentation](https://kaolin.readthedocs.io/en/latest/modules/kaolin.render.lighting.html)."
   ]
  },
  {
   "cell_type": "code",
   "execution_count": 4,
   "id": "5e4b8a49",
   "metadata": {
    "tags": []
   },
   "outputs": [],
   "source": [
    "# Those are the parameters used to define the Spherical gaussian\n",
    "azimuth = torch.zeros((1,), device='cuda')\n",
    "elevation = torch.full((1,), math.pi / 3., device='cuda')\n",
    "amplitude = torch.full((1, 3), 3., device='cuda')\n",
    "sharpness = torch.full((1,), 5., device='cuda')\n",
    "# We will use this variable to enable / disable specular reflectance\n",
    "global apply_specular\n",
    "apply_specular = True\n",
    "\n",
    "def generate_pinhole_rays_dir(camera, height, width, device='cuda'):\n",
    "    \"\"\"Generate centered grid.\n",
    "    \n",
    "    This is a utility function for specular reflectance with spherical gaussian.\n",
    "    \"\"\"\n",
    "    pixel_y, pixel_x = torch.meshgrid(\n",
    "        torch.arange(height, device=device),\n",
    "        torch.arange(width, device=device),\n",
    "        indexing='ij'\n",
    "    )\n",
    "    pixel_x = pixel_x + 0.5  # scale and add bias to pixel center\n",
    "    pixel_y = pixel_y + 0.5  # scale and add bias to pixel center\n",
    "\n",
    "    # Account for principal point (offsets from the center)\n",
    "    pixel_x = pixel_x - camera.x0\n",
    "    pixel_y = pixel_y + camera.y0\n",
    "\n",
    "    # pixel values are now in range [-1, 1], both tensors are of shape res_y x res_x\n",
    "    # Convert to NDC\n",
    "    pixel_x = 2 * (pixel_x / width) - 1.0\n",
    "    pixel_y = 2 * (pixel_y / height) - 1.0\n",
    "\n",
    "    ray_dir = torch.stack((pixel_x * camera.tan_half_fov(kal.render.camera.intrinsics.CameraFOV.HORIZONTAL),\n",
    "                           -pixel_y * camera.tan_half_fov(kal.render.camera.intrinsics.CameraFOV.VERTICAL),\n",
    "                           -torch.ones_like(pixel_x)), dim=-1)\n",
    "\n",
    "    ray_dir = ray_dir.reshape(-1, 3)    # Flatten grid rays to 1D array\n",
    "    ray_orig = torch.zeros_like(ray_dir)\n",
    "\n",
    "    # Transform from camera to world coordinates\n",
    "    ray_orig, ray_dir = camera.extrinsics.inv_transform_rays(ray_orig, ray_dir)\n",
    "    ray_dir /= torch.linalg.norm(ray_dir, dim=-1, keepdim=True)\n",
    "\n",
    "    return ray_dir[0].reshape(1, height, width, 3)\n",
    "\n",
    "\n",
    "def base_render(camera, height, width):\n",
    "    \"\"\"Base function for rendering using separate height and width\"\"\"\n",
    "    transformed_vertices = camera.transform(vertices)\n",
    "    face_vertices_camera = kal.ops.mesh.index_vertices_by_faces(\n",
    "        transformed_vertices, faces)\n",
    "    face_normals_z = kal.ops.mesh.face_normals(\n",
    "        face_vertices_camera,\n",
    "        unit=True\n",
    "    )[..., -1:].contiguous()\n",
    "    # Create a fake W (See nvdiffrast documentation)\n",
    "    pos = torch.nn.functional.pad(\n",
    "        transformed_vertices, (0, 1), mode='constant', value=1.\n",
    "    ).contiguous()\n",
    "    rast = nvdiffrast.torch.rasterize(\n",
    "        glctx, pos, faces.int(), (height, width), grad_db=False)\n",
    "    hard_mask = rast[0][:, :, :, -1:] != 0\n",
    "    face_idx = (rast[0][..., -1].long() - 1).contiguous()\n",
    "\n",
    "    uv_map = nvdiffrast.torch.interpolate(\n",
    "        uvs, rast[0], face_uvs_idx.int())[0]\n",
    "\n",
    "    im_world_normals = face_world_normals.reshape(-1, 3)[face_idx]\n",
    "    im_cam_normals = face_normals_z.reshape(-1, 1)[face_idx]\n",
    "    im_world_normals = im_world_normals * torch.sign(im_cam_normals)\n",
    "    albedo = torch.zeros(\n",
    "        (1, height, width, 3),\n",
    "        dtype=torch.float, device='cuda'\n",
    "    )\n",
    "    spec_albedo = torch.zeros(\n",
    "        (1, height, width, 3),\n",
    "        dtype=torch.float, device='cuda'\n",
    "    )\n",
    "    # Obj meshes can be composed of multiple materials\n",
    "    # so at rendering we need to interpolate from corresponding materials\n",
    "    im_material_idx = face_material_idx[face_idx]\n",
    "    im_material_idx[face_idx == -1] = -1\n",
    "\n",
    "    for i, material in enumerate(diffuse_maps):\n",
    "        mask = im_material_idx == i\n",
    "        mask_idx = torch.nonzero(mask, as_tuple=False)\n",
    "        _texcoords = uv_map[mask] * 2. - 1.\n",
    "        _texcoords[:, 1] = -_texcoords[:, 1]\n",
    "        pixel_val = torch.nn.functional.grid_sample(\n",
    "            diffuse_maps[i], _texcoords.reshape(1, 1, -1, 2),\n",
    "            mode='bilinear', align_corners=False,\n",
    "            padding_mode='border')\n",
    "        albedo[mask] = pixel_val[0, :, 0].permute(1, 0)\n",
    "        pixel_val = torch.nn.functional.grid_sample(\n",
    "            specular_maps[i], _texcoords.reshape(1, 1, -1, 2),\n",
    "            mode='bilinear', align_corners=False,\n",
    "            padding_mode='border')\n",
    "        spec_albedo[mask] = pixel_val[0, :, 0].permute(1, 0)\n",
    "    img = torch.zeros((1, height, width, 3),\n",
    "                      dtype=torch.float, device='cuda')\n",
    "    sg_x, sg_y, sg_z = kal.ops.coords.spherical2cartesian(azimuth, elevation)\n",
    "    directions = torch.stack(\n",
    "        [sg_x, sg_z, sg_y],\n",
    "        dim=-1\n",
    "    )\n",
    "    im_world_normals = im_world_normals[hard_mask.squeeze(-1)]\n",
    "    diffuse_effect = kal.render.lighting.sg_diffuse_inner_product(\n",
    "        amplitude, directions, sharpness,\n",
    "        im_world_normals,\n",
    "        albedo[hard_mask.squeeze(-1)]\n",
    "    )\n",
    "    img[hard_mask.squeeze(-1)] = diffuse_effect\n",
    "    global apply_specular\n",
    "    if apply_specular:\n",
    "        rays_d = generate_pinhole_rays_dir(camera, height, width)\n",
    "        specular_effect = kal.render.lighting.sg_warp_specular_term(\n",
    "            amplitude, directions, sharpness,\n",
    "            im_world_normals,\n",
    "            torch.full((im_world_normals.shape[0],), 0.5, device='cuda'),\n",
    "            -rays_d[hard_mask.squeeze(-1)],\n",
    "            spec_albedo[hard_mask.squeeze(-1)]\n",
    "        )\n",
    "        img[hard_mask.squeeze(-1)] += specular_effect\n",
    "\n",
    "    # Need to flip the image because opengl\n",
    "    return (torch.flip(torch.clamp(\n",
    "        img * hard_mask, 0., 1.\n",
    "    )[0], dims=(0,)) * 255.).to(torch.uint8)\n",
    "\n",
    "def render(camera):\n",
    "    \"\"\"Render using camera dimension.\n",
    "    \n",
    "    This is the main function provided to the interactive visualizer\n",
    "    \"\"\"\n",
    "    return base_render(camera, camera.height, camera.width)\n",
    "\n",
    "def lowres_render(camera):\n",
    "    \"\"\"Render with lower dimension.\n",
    "    \n",
    "    This function will be used as a \"fast\" rendering used when the mouse is moving to avoid slow down.\n",
    "    \"\"\"\n",
    "    return base_render(camera, int(camera.height / 4), int(camera.width / 4))"
   ]
  },
  {
   "cell_type": "markdown",
   "id": "383f1ffa-936c-416f-8779-d20fe28e7230",
   "metadata": {},
   "source": [
    "## Turntable visualizer\n",
    "This is a simple visualizer useful to inspect a small object.\n",
    "\n",
    "You can move around with the mouse (left button) and zoom with the mouse wheel.\n",
    "See the [documentation](https://kaolin.readthedocs.io/en/latest/modules/kaolin.visualize.html#kaolin.visualize.IpyTurntableVisualizer) to customize the sensitivity."
   ]
  },
  {
   "cell_type": "code",
   "execution_count": 5,
   "id": "f10f6ab7-662c-4cf6-8af4-5f28ae79d795",
   "metadata": {
    "tags": []
   },
   "outputs": [
    {
     "data": {
      "application/vnd.jupyter.widget-view+json": {
       "model_id": "58df1f054a304a7d930351071772df71",
       "version_major": 2,
       "version_minor": 0
      },
      "text/plain": [
       "Canvas(height=512, width=512)"
      ]
     },
     "metadata": {},
     "output_type": "display_data"
    },
    {
     "data": {
      "application/vnd.jupyter.widget-view+json": {
       "model_id": "7fb6fcd6b1654bbf85b0fb29d90db63b",
       "version_major": 2,
       "version_minor": 0
      },
      "text/plain": [
       "Output()"
      ]
     },
     "metadata": {},
     "output_type": "display_data"
    }
   ],
   "source": [
    "visualizer = kal.visualize.IpyTurntableVisualizer(\n",
    "    512, 512, copy.deepcopy(camera), render,\n",
    "    fast_render=lowres_render, max_fps=24, world_up_axis=1)\n",
    "visualizer.show()"
   ]
  },
  {
   "cell_type": "markdown",
   "id": "d8ff3945-66a4-47af-a3c0-4428c2adf6cf",
   "metadata": {},
   "source": [
    "## First person visualizer\n",
    "This is a visualizer useful to inspect details on an object, or a big scene.\n",
    "\n",
    "You can move the orientation of the camera with the mouse left button, move the camera around with the mouse right button or\n",
    "the keys 'i' (up), 'k' (down), 'j' (left), 'l' (right), 'o' (forward), 'u' (backward)\n",
    "\n",
    "See the [documentation](https://kaolin.readthedocs.io/en/latest/modules/kaolin.visualize.html#kaolin.visualize.IpyFirstPersonVisualizer) to customize the sensitivity and keys.\n",
    "\n",
    "--------------------\n",
    "*Note: camera are mutable in the visualizer. If you want to keep track of the camera position you can remove the `copy.deepcopy` on camera argument or you can check `visualizer.camera`*"
   ]
  },
  {
   "cell_type": "code",
   "execution_count": 6,
   "id": "27a16dea",
   "metadata": {
    "tags": []
   },
   "outputs": [
    {
     "data": {
      "application/vnd.jupyter.widget-view+json": {
       "model_id": "203477ec894846608804c53003c943aa",
       "version_major": 2,
       "version_minor": 0
      },
      "text/plain": [
       "Canvas(height=512, width=512)"
      ]
     },
     "metadata": {},
     "output_type": "display_data"
    },
    {
     "data": {
      "application/vnd.jupyter.widget-view+json": {
       "model_id": "855cef7b48d84178949f45d63da8c5d4",
       "version_major": 2,
       "version_minor": 0
      },
      "text/plain": [
       "Output()"
      ]
     },
     "metadata": {},
     "output_type": "display_data"
    }
   ],
   "source": [
    "visualizer = kal.visualize.IpyFirstPersonVisualizer(\n",
    "    512, 512, copy.deepcopy(camera), render, fast_render=lowres_render,\n",
    "    max_fps=24, world_up=torch.tensor([0., 1., 0.], device='cuda'))\n",
    "visualizer.show()"
   ]
  },
  {
   "cell_type": "markdown",
   "id": "0c6a9142",
   "metadata": {},
   "source": [
    "# Adding events and other widgets\n",
    "\n",
    "The visualizer is modular.\n",
    "Here we will add:\n",
    "* sliders to control the spherical gaussian parameters (see [ipywidgets tutorial](https://ipywidgets.readthedocs.io/en/stable/examples/Using%20Interact.html) for more info).\n",
    "* A key event to 'space' to enable / disable specular reflectance (see [ipyevents documentation](https://github.com/mwcraig/ipyevents/blob/main/docs/events.ipynb)) to see all the events that can be caught.\n",
    "\n",
    "In general if you want to modify the rendering function you can use global variables or make a class (with the rendering function being a method)\n",
    "\n",
    "-------------\n",
    "More info on spherical gaussians parameters in our [sg_specular_lighting.ipynb](./sg_specular_lighting.ipynb) tutorial\n",
    "and [documentation](https://kaolin.readthedocs.io/en/latest/modules/kaolin.render.lighting.html)."
   ]
  },
  {
   "cell_type": "code",
   "execution_count": 7,
   "id": "0a9fd84e",
   "metadata": {},
   "outputs": [
    {
     "data": {
      "application/vnd.jupyter.widget-view+json": {
       "model_id": "c66c4c66d41d4162a74531b5eb548877",
       "version_major": 2,
       "version_minor": 0
      },
      "text/plain": [
       "HBox(children=(Canvas(height=512, width=512), interactive(children=(FloatSlider(value=0.0, description='Elevat…"
      ]
     },
     "metadata": {},
     "output_type": "display_data"
    },
    {
     "data": {
      "application/vnd.jupyter.widget-view+json": {
       "model_id": "f0979c37078448bbb4635e76ebca8e0a",
       "version_major": 2,
       "version_minor": 0
      },
      "text/plain": [
       "Output()"
      ]
     },
     "metadata": {},
     "output_type": "display_data"
    }
   ],
   "source": [
    "from ipywidgets import interactive, HBox, FloatSlider\n",
    "\n",
    "def additional_event_handler(visualizer, event):\n",
    "    \"\"\"Event handler to be provided to Kaolin's visualizer\"\"\"\n",
    "    with visualizer.out: # This is for catching print and errors\n",
    "        if event['type'] == 'keydown' and event['key'] == ' ':\n",
    "            global apply_specular\n",
    "            apply_specular = not apply_specular\n",
    "            visualizer.render_update()\n",
    "            return False\n",
    "        return True\n",
    "\n",
    "visualizer = kal.visualize.IpyTurntableVisualizer(\n",
    "    512, 512, copy.deepcopy(camera), render,\n",
    "    fast_render=lowres_render, max_fps=24,\n",
    "    additional_event_handler=additional_event_handler,\n",
    "    additional_watched_events=['keydown'] # We need to now watch for key press event\n",
    ")\n",
    "# we don't call visualizer.show() here\n",
    "\n",
    "def sliders_callback(new_elevation, new_azimuth, new_amplitude, new_sharpness):\n",
    "    \"\"\"ipywidgets sliders callback\"\"\"\n",
    "    with visualizer.out: # This is in case of bug\n",
    "        elevation[:] = new_elevation\n",
    "        azimuth[:] = new_azimuth\n",
    "        amplitude[:] = new_amplitude\n",
    "        sharpness[:] = new_sharpness\n",
    "        # this is how we request a new update\n",
    "        visualizer.render_update()\n",
    "        \n",
    "elevation_slider = FloatSlider(\n",
    "    value=0.,\n",
    "    min=-math.pi / 2.,\n",
    "    max=math.pi / 2.,\n",
    "    step=0.1,\n",
    "    description='Elevation:',\n",
    "    continuous_update=True,\n",
    "    readout=True,\n",
    "    readout_format='.1f',\n",
    ")\n",
    "\n",
    "azimuth_slider = FloatSlider(\n",
    "    value=0.,\n",
    "    min=-math.pi,\n",
    "    max=math.pi,\n",
    "    step=0.1,\n",
    "    description='Azimuth:',\n",
    "    continuous_update=True,\n",
    "    readout=True,\n",
    "    readout_format='.1f',\n",
    ")\n",
    "\n",
    "amplitude_slider = FloatSlider(\n",
    "    value=5.,\n",
    "    min=0.1,\n",
    "    max=20.,\n",
    "    step=0.1,\n",
    "    description='Amplitude:\\n',\n",
    "    continuous_update=True,\n",
    "    readout=True,\n",
    "    readout_format='.1f',\n",
    ")\n",
    "\n",
    "sharpness_slider = FloatSlider(\n",
    "    value=5.,\n",
    "    min=0.1,\n",
    "    max=20.,\n",
    "    step=0.1,\n",
    "    description='Sharpness:\\n',\n",
    "    continuous_update=True,\n",
    "    readout=True,\n",
    "    readout_format='.1f',\n",
    ")\n",
    "\n",
    "interactive_slider = interactive(\n",
    "    sliders_callback,\n",
    "    new_elevation=elevation_slider,\n",
    "    new_azimuth=azimuth_slider,\n",
    "    new_amplitude=amplitude_slider,\n",
    "    new_sharpness=sharpness_slider\n",
    ")\n",
    "\n",
    "# We combine all the widgets and the visualizer canvas and output in a single display\n",
    "full_output = HBox([visualizer.canvas, interactive_slider])\n",
    "display(full_output, visualizer.out)"
   ]
  }
 ],
 "metadata": {
  "kernelspec": {
   "display_name": "Python 3",
   "language": "python",
   "name": "python3"
  },
  "language_info": {
   "codemirror_mode": {
    "name": "ipython",
    "version": 3
   },
   "file_extension": ".py",
   "mimetype": "text/x-python",
   "name": "python",
   "nbconvert_exporter": "python",
   "pygments_lexer": "ipython3",
   "version": "3.8.13"
  }
 },
 "nbformat": 4,
 "nbformat_minor": 5
}
