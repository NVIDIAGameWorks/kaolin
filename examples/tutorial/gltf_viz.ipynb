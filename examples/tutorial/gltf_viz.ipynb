{
 "cells": [
  {
   "cell_type": "markdown",
   "id": "7d389def-75f7-499e-a587-0e82b8bb636a",
   "metadata": {},
   "source": [
    "# Loading and rendering GLTF files\n",
    "You can [import meshes from GLTF](https://kaolin.readthedocs.io/en/latest/modules/kaolin.io.gltf.html) and render them and plug the renderer into Kaolin's [interactive renderer](https://kaolin.readthedocs.io/en/latest/modules/kaolin.visualize.html)."
   ]
  },
  {
   "cell_type": "code",
   "execution_count": 1,
   "id": "ab6e3188-0186-463b-b915-183067e90842",
   "metadata": {},
   "outputs": [
    {
     "name": "stdout",
     "output_type": "stream",
     "text": [
      "Note: you may need to restart the kernel to use updated packages.\n"
     ]
    }
   ],
   "source": [
    "pip install matplotlib --quiet"
   ]
  },
  {
   "cell_type": "code",
   "execution_count": 2,
   "id": "938466b1",
   "metadata": {
    "tags": []
   },
   "outputs": [],
   "source": [
    "import glob\n",
    "import math\n",
    "import copy\n",
    "import os\n",
    "\n",
    "import torch\n",
    "from matplotlib import pyplot as plt\n",
    "from tutorial_common import COMMON_DATA_DIR\n",
    "\n",
    "import kaolin as kal"
   ]
  },
  {
   "cell_type": "markdown",
   "id": "d18717b0-d84e-4a7d-8f9c-1a067c0dd507",
   "metadata": {},
   "source": [
    "## Loading a mesh\n",
    "To import mesh data and materials into PyTorch tensors, simply call [kaolin.io.gltf.import_mesh](https://kaolin.readthedocs.io/en/latest/modules/kaolin.io.gltf.html#kaolin.io.gltf.import_mesh). The loaded data is returned as [SurfaceMesh class](https://kaolin.readthedocs.io/en/latest/modules/kaolin.rep.surface_mesh.html#kaolin.rep.SurfaceMesh) with contained materials of type [PBRMaterial class](https://kaolin.readthedocs.io/en/latest/modules/kaolin.render.materials.html#kaolin.render.materials.PBRMaterial). These containers make it very easy to inspect and preprocess the data.\n",
    "\n",
    "You can also try loading other [GLTF sample models](https://github.com/KhronosGroup/glTF-Sample-Models/)."
   ]
  },
  {
   "cell_type": "code",
   "execution_count": 3,
   "id": "41eb96d6",
   "metadata": {
    "tags": []
   },
   "outputs": [
    {
     "name": "stderr",
     "output_type": "stream",
     "text": [
      "/home/mshugrina/anaconda3/envs/kaolin-dev/lib/python3.8/site-packages/pygltflib-1.16.1-py3.8.egg/pygltflib/__init__.py:900: UserWarning: Conversion will leave avocado.bin file orphaned since data is now in the GLTF object.\n",
      "/home/mshugrina/anaconda3/envs/kaolin-dev/lib/python3.8/site-packages/pygltflib-1.16.1-py3.8.egg/pygltflib/__init__.py:877: UserWarning: pygltflib currently unable to add image data to buffers.Please open an issue at https://gitlab.com/dodgyville/pygltflib/issues\n",
      "/home/mshugrina/Documents/Coding/Kaolin/Dev/kaolin/kaolin/io/gltf.py:266: UserWarning: The given buffer is not writable, and PyTorch does not support non-writable tensors. This means you can write to the underlying (supposedly non-writable) buffer using the tensor. You may want to copy the buffer to protect its data or make it writable before converting it to a tensor. This type of warning will be suppressed for the rest of this program. (Triggered internally at  ../torch/csrc/utils/tensor_new.cpp:1105.)\n",
      "  output = torch.frombuffer(\n"
     ]
    },
    {
     "name": "stdout",
     "output_type": "stream",
     "text": [
      "SurfaceMesh object with batching strategy NONE\n",
      "            vertices: [406, 3] (torch.float32)[cuda:0]  \n",
      "               faces: [682, 3] (torch.int64)[cuda:0]  \n",
      "                 uvs: [406, 2] (torch.float32)[cuda:0]  \n",
      "        face_uvs_idx: [682, 3] (torch.int64)[cuda:0]  \n",
      "      vertex_normals: [406, 3] (torch.float32)[cuda:0]  \n",
      "     vertex_tangents: [406, 3] (torch.float32)[cuda:0]  \n",
      "material_assignments: [682] (torch.int16)[cuda:0]  \n",
      "           materials: list of length 1\n",
      "       face_vertices: if possible, computed on access from: (faces, vertices)\n",
      "        face_normals: if possible, computed on access from: (normals, face_normals_idx) or (vertex_normals, faces) or (vertices, faces)\n",
      "            face_uvs: if possible, computed on access from: (uvs, face_uvs_idx)\n",
      "       vertex_colors: if possible, computed on access from: (faces, face_colors)\n",
      "     vertex_features: if possible, computed on access from: (faces, face_features)\n",
      "       face_tangents: if possible, computed on access from: (faces, vertex_tangents)\n",
      "         face_colors: if possible, computed on access from: (faces, vertex_colors)\n",
      "       face_features: if possible, computed on access from: (faces, vertex_features)\n",
      "\n",
      "First material: \n",
      " PBRMaterial object with\n",
      "                    material_name: 2256_Avocado_d\n",
      "                      shader_name: UsdPreviewSurface\n",
      "                  diffuse_texture: [2048, 2048, 3] (torch.float32)[cuda:0]  \n",
      "                roughness_texture: [2048, 2048, 1] (torch.float32)[cuda:0]  \n",
      "                 metallic_texture: [2048, 2048, 1] (torch.float32)[cuda:0]  \n",
      "                  normals_texture: [2048, 2048, 3] (torch.float32)[cuda:0]  \n"
     ]
    }
   ],
   "source": [
    "path = os.path.join(COMMON_DATA_DIR, 'meshes', 'avocado.gltf')\n",
    "mesh = kal.io.gltf.import_mesh(path)\n",
    "\n",
    "mesh = mesh.cuda()\n",
    "mesh.vertices = kal.ops.pointcloud.center_points(\n",
    "    mesh.vertices.unsqueeze(0), normalize=True).squeeze(0)\n",
    "\n",
    "print(mesh)\n",
    "print(f'\\nFirst material: \\n {mesh.materials[0]}')"
   ]
  },
  {
   "cell_type": "markdown",
   "id": "8040fbf3-dfe0-4cbe-abb1-03d84524ed2a",
   "metadata": {},
   "source": [
    "## Rendering function and parameters\n",
    "Let's initialize simple [Spherical Gaussian](https://kaolin.readthedocs.io/en/latest/modules/kaolin.render.lighting.html)\n",
    "lighting, and a [Camera](https://kaolin.readthedocs.io/en/latest/modules/kaolin.render.camera.camera.html#kaolin.render.camera.Camera). \n",
    "\n",
    "To use the interactive visualizer, we must implement a rendering function that take a camera as input. Kaolin provides a standard shader `kal.render.easy_render.render_mesh` that can render imported `gltf` files with just one line."
   ]
  },
  {
   "cell_type": "code",
   "execution_count": 4,
   "id": "277c8df7-a19f-493a-af1d-64dd78f7bd3e",
   "metadata": {
    "tags": []
   },
   "outputs": [
    {
     "name": "stdout",
     "output_type": "stream",
     "text": [
      "CameraExtrinsics of 1 cameras, of coordinate system: \n",
      "tensor([[1., 0., 0.],\n",
      "        [0., 1., 0.],\n",
      "        [0., 0., 1.]]). \n",
      "Camera #0 View Matrix: \n",
      "tensor([[[ 0.7071,  0.0000, -0.7071,  0.0000],\n",
      "         [-0.4082,  0.8165, -0.4082,  0.0000],\n",
      "         [ 0.5774,  0.5774,  0.5774, -1.7321],\n",
      "         [ 0.0000,  0.0000,  0.0000,  1.0000]]], device='cuda:0'),\n",
      "Camera #0 Inverse View Matrix: \n",
      "tensor([[[ 0.7071, -0.4082,  0.5774,  1.0000],\n",
      "         [ 0.0000,  0.8165,  0.5774,  1.0000],\n",
      "         [-0.7071, -0.4082,  0.5774,  1.0000],\n",
      "         [ 0.0000,  0.0000,  0.0000,  1.0000]]], device='cuda:0')\n",
      "\n",
      "PinholeIntrinsics of 1 cameras of resolution 512x512.\n",
      "Camera #0: {'x0': 0.0, 'y0': 0.0, 'focal_x': 618.0386962890625, 'focal_y': 618.0386962890625}\n",
      "\n"
     ]
    },
    {
     "data": {
      "text/plain": [
       "<matplotlib.image.AxesImage at 0x7ffa2cb899d0>"
      ]
     },
     "execution_count": 4,
     "metadata": {},
     "output_type": "execute_result"
    },
    {
     "data": {
      "image/png": "[encoded data removed]",
      "text/plain": [
       "<Figure size 432x288 with 1 Axes>"
      ]
     },
     "metadata": {
      "needs_background": "light"
     },
     "output_type": "display_data"
    }
   ],
   "source": [
    "# Lighting parameters that are easy to control with sliders\n",
    "azimuth = torch.zeros((1,), device='cuda')\n",
    "elevation = torch.full((1,), math.pi / 3., device='cuda')\n",
    "amplitude = torch.full((1, 3), 3., device='cuda')\n",
    "sharpness = torch.full((1,), 5., device='cuda')\n",
    "\n",
    "def current_lighting():\n",
    "    \"\"\" Convert slider lighting parameters to paramater class used for rendering.\"\"\"\n",
    "    direction = kal.render.lighting.sg_direction_from_azimuth_elevation(azimuth, elevation)\n",
    "    return kal.render.lighting.SgLightingParameters(\n",
    "        amplitude=amplitude, sharpness=sharpness, direction=direction)\n",
    "\n",
    "# Camera\n",
    "camera = kal.render.easy_render.default_camera(512).cuda()\n",
    "print(camera)\n",
    "\n",
    "# Rendering\n",
    "active_pass=kal.render.easy_render.RenderPass.render\n",
    "def render(camera):\n",
    "    \"\"\"Render the mesh and its bundled materials.\n",
    "    \n",
    "    This is the main function provided to the interactive visualizer\n",
    "    \"\"\"\n",
    "    render_res = kal.render.easy_render.render_mesh(camera, mesh, lighting=current_lighting())\n",
    "    img = render_res[active_pass]\n",
    "    return {\"img\": (torch.clamp(img, 0., 1.)[0] * 255.).to(torch.uint8),\n",
    "            \"normals\": render_res[kal.render.easy_render.RenderPass.normals][0]}\n",
    "    \n",
    "def lowres_render(camera):\n",
    "    \"\"\"Render with lower dimension.\n",
    "    \n",
    "    This function will be used as a \"fast\" rendering used when the mouse is moving to avoid slow down.\n",
    "    \"\"\"\n",
    "    lowres_cam = copy.deepcopy(camera)\n",
    "    lowres_cam.width = camera.width // 8\n",
    "    lowres_cam.height = camera.height // 8\n",
    "    return render(lowres_cam)\n",
    "\n",
    "output = render(camera)\n",
    "plt.figure()\n",
    "plt.imshow(output['img'].cpu().numpy())"
   ]
  },
  {
   "cell_type": "markdown",
   "id": "e2023c19-0b6c-4aef-a491-0fa8b29fd5c0",
   "metadata": {},
   "source": [
    "## Interactive visualizer\n",
    "To interactively inspect rendering from all sides, we can now plug the camera and the renderer into the interactive visualizer, adding some ipywidgets interactive sliders to modify lighting."
   ]
  },
  {
   "cell_type": "code",
   "execution_count": 5,
   "id": "091083de",
   "metadata": {
    "tags": []
   },
   "outputs": [
    {
     "data": {
      "application/vnd.jupyter.widget-view+json": {
       "model_id": "265412d638674ae3b2e758ec98dcb426",
       "version_major": 2,
       "version_minor": 0
      },
      "text/plain": [
       "HBox(children=(Canvas(height=512, width=512), interactive(children=(FloatSlider(value=1.0471975803375244, desc…"
      ]
     },
     "metadata": {},
     "output_type": "display_data"
    },
    {
     "data": {
      "application/vnd.jupyter.widget-view+json": {
       "model_id": "0b26903a52ca4622a53aa0776546f08e",
       "version_major": 2,
       "version_minor": 0
      },
      "text/plain": [
       "Output()"
      ]
     },
     "metadata": {},
     "output_type": "display_data"
    }
   ],
   "source": [
    "from ipywidgets import interactive, HBox, FloatSlider\n",
    "\n",
    "visualizer = kal.visualize.IpyTurntableVisualizer(\n",
    "    512, 512, copy.deepcopy(camera), render, fast_render=lowres_render, \n",
    "    max_fps=5, world_up_axis=1, img_format='jpeg', img_quality=75\n",
    ")\n",
    "\n",
    "def sliders_callback(new_elevation, new_azimuth, new_amplitude, new_sharpness):\n",
    "    \"\"\"ipywidgets sliders callback\"\"\"\n",
    "    with visualizer.out: # This is in case of bug\n",
    "        elevation[:] = new_elevation\n",
    "        azimuth[:] = new_azimuth\n",
    "        amplitude[:] = new_amplitude\n",
    "        sharpness[:] = new_sharpness\n",
    "        # this is how we request a new update\n",
    "        visualizer.render_update()\n",
    "        \n",
    "elevation_slider = FloatSlider(\n",
    "    value=elevation.item(),\n",
    "    min=-math.pi / 2.,\n",
    "    max=math.pi / 2.,\n",
    "    step=0.1,\n",
    "    description='Elevation:',\n",
    "    continuous_update=True,\n",
    "    readout=True,\n",
    "    readout_format='.1f',\n",
    ")\n",
    "\n",
    "azimuth_slider = FloatSlider(\n",
    "    value=azimuth.item(),\n",
    "    min=-math.pi,\n",
    "    max=math.pi,\n",
    "    step=0.1,\n",
    "    description='Azimuth:',\n",
    "    continuous_update=True,\n",
    "    readout=True,\n",
    "    readout_format='.1f',\n",
    ")\n",
    "\n",
    "amplitude_slider = FloatSlider(\n",
    "    value=amplitude[0,0].item(),\n",
    "    min=0.1,\n",
    "    max=40.,\n",
    "    step=0.1,\n",
    "    description='Amplitude:\\n',\n",
    "    continuous_update=True,\n",
    "    readout=True,\n",
    "    readout_format='.1f',\n",
    ")\n",
    "\n",
    "sharpness_slider = FloatSlider(\n",
    "    value=sharpness.item(),\n",
    "    min=0.1,\n",
    "    max=20.,\n",
    "    step=0.1,\n",
    "    description='Sharpness:\\n',\n",
    "    continuous_update=True,\n",
    "    readout=True,\n",
    "    readout_format='.1f',\n",
    ")\n",
    "\n",
    "interactive_slider = interactive(\n",
    "    sliders_callback,\n",
    "    new_elevation=elevation_slider,\n",
    "    new_azimuth=azimuth_slider,\n",
    "    new_amplitude=amplitude_slider,\n",
    "    new_sharpness=sharpness_slider\n",
    ")\n",
    "\n",
    "# We combine all the widgets and the visualizer canvas and output in a single display\n",
    "full_output = HBox([visualizer.canvas, interactive_slider])\n",
    "display(full_output, visualizer.out)"
   ]
  }
 ],
 "metadata": {
  "kernelspec": {
   "display_name": "Python 3 (ipykernel)",
   "language": "python",
   "name": "python3"
  },
  "language_info": {
   "codemirror_mode": {
    "name": "ipython",
    "version": 3
   },
   "file_extension": ".py",
   "mimetype": "text/x-python",
   "name": "python",
   "nbconvert_exporter": "python",
   "pygments_lexer": "ipython3",
   "version": "3.9.19"
  }
 },
 "nbformat": 4,
 "nbformat_minor": 5
}
