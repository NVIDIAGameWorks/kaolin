{
 "cells": [
  {
   "cell_type": "markdown",
   "id": "c84d7733-cedb-4f90-a68e-63c016b6e633",
   "metadata": {},
   "source": [
    "# Muscle Activation On A Simple Musculoskeletal Mesh Using Simplicits\n",
    "Lets go step by step and simulate muscle-activated motion of a simple musculoskeletal mesh with no jointsusing Simplicits."
   ]
  },
  {
   "cell_type": "code",
   "execution_count": 5,
   "id": "151ebcd4-cca8-4d87-8525-899b186c1c63",
   "metadata": {},
   "outputs": [
    {
     "name": "stdout",
     "output_type": "stream",
     "text": [
      "Requirement already satisfied: k3d in /home/vismaym/anaconda3/envs/kaolin5/lib/python3.9/site-packages (2.16.1)\n",
      "Requirement already satisfied: ipywidgets<9.0.0,>=7.0.0 in /home/vismaym/anaconda3/envs/kaolin5/lib/python3.9/site-packages (from k3d) (8.1.3)\n",
      "Requirement already satisfied: msgpack in /home/vismaym/anaconda3/envs/kaolin5/lib/python3.9/site-packages (from k3d) (1.0.8)\n",
      "Requirement already satisfied: numpy in /home/vismaym/anaconda3/envs/kaolin5/lib/python3.9/site-packages (from k3d) (1.26.4)\n",
      "Requirement already satisfied: traitlets in /home/vismaym/anaconda3/envs/kaolin5/lib/python3.9/site-packages (from k3d) (5.14.3)\n",
      "Requirement already satisfied: traittypes in /home/vismaym/anaconda3/envs/kaolin5/lib/python3.9/site-packages (from k3d) (0.2.1)\n",
      "Requirement already satisfied: comm>=0.1.3 in /home/vismaym/anaconda3/envs/kaolin5/lib/python3.9/site-packages (from ipywidgets<9.0.0,>=7.0.0->k3d) (0.2.2)\n",
      "Requirement already satisfied: ipython>=6.1.0 in /home/vismaym/anaconda3/envs/kaolin5/lib/python3.9/site-packages (from ipywidgets<9.0.0,>=7.0.0->k3d) (8.18.1)\n",
      "Requirement already satisfied: widgetsnbextension~=4.0.11 in /home/vismaym/anaconda3/envs/kaolin5/lib/python3.9/site-packages (from ipywidgets<9.0.0,>=7.0.0->k3d) (4.0.11)\n",
      "Requirement already satisfied: jupyterlab-widgets~=3.0.11 in /home/vismaym/anaconda3/envs/kaolin5/lib/python3.9/site-packages (from ipywidgets<9.0.0,>=7.0.0->k3d) (3.0.11)\n",
      "Requirement already satisfied: decorator in /home/vismaym/anaconda3/envs/kaolin5/lib/python3.9/site-packages (from ipython>=6.1.0->ipywidgets<9.0.0,>=7.0.0->k3d) (5.1.1)\n",
      "Requirement already satisfied: jedi>=0.16 in /home/vismaym/anaconda3/envs/kaolin5/lib/python3.9/site-packages (from ipython>=6.1.0->ipywidgets<9.0.0,>=7.0.0->k3d) (0.19.1)\n",
      "Requirement already satisfied: matplotlib-inline in /home/vismaym/anaconda3/envs/kaolin5/lib/python3.9/site-packages (from ipython>=6.1.0->ipywidgets<9.0.0,>=7.0.0->k3d) (0.1.7)\n",
      "Requirement already satisfied: prompt-toolkit<3.1.0,>=3.0.41 in /home/vismaym/anaconda3/envs/kaolin5/lib/python3.9/site-packages (from ipython>=6.1.0->ipywidgets<9.0.0,>=7.0.0->k3d) (3.0.47)\n",
      "Requirement already satisfied: pygments>=2.4.0 in /home/vismaym/anaconda3/envs/kaolin5/lib/python3.9/site-packages (from ipython>=6.1.0->ipywidgets<9.0.0,>=7.0.0->k3d) (2.18.0)\n",
      "Requirement already satisfied: stack-data in /home/vismaym/anaconda3/envs/kaolin5/lib/python3.9/site-packages (from ipython>=6.1.0->ipywidgets<9.0.0,>=7.0.0->k3d) (0.6.3)\n",
      "Requirement already satisfied: typing-extensions in /home/vismaym/anaconda3/envs/kaolin5/lib/python3.9/site-packages (from ipython>=6.1.0->ipywidgets<9.0.0,>=7.0.0->k3d) (4.12.2)\n",
      "Requirement already satisfied: exceptiongroup in /home/vismaym/anaconda3/envs/kaolin5/lib/python3.9/site-packages (from ipython>=6.1.0->ipywidgets<9.0.0,>=7.0.0->k3d) (1.2.1)\n",
      "Requirement already satisfied: pexpect>4.3 in /home/vismaym/anaconda3/envs/kaolin5/lib/python3.9/site-packages (from ipython>=6.1.0->ipywidgets<9.0.0,>=7.0.0->k3d) (4.9.0)\n",
      "Requirement already satisfied: parso<0.9.0,>=0.8.3 in /home/vismaym/anaconda3/envs/kaolin5/lib/python3.9/site-packages (from jedi>=0.16->ipython>=6.1.0->ipywidgets<9.0.0,>=7.0.0->k3d) (0.8.4)\n",
      "Requirement already satisfied: ptyprocess>=0.5 in /home/vismaym/anaconda3/envs/kaolin5/lib/python3.9/site-packages (from pexpect>4.3->ipython>=6.1.0->ipywidgets<9.0.0,>=7.0.0->k3d) (0.7.0)\n",
      "Requirement already satisfied: wcwidth in /home/vismaym/anaconda3/envs/kaolin5/lib/python3.9/site-packages (from prompt-toolkit<3.1.0,>=3.0.41->ipython>=6.1.0->ipywidgets<9.0.0,>=7.0.0->k3d) (0.2.13)\n",
      "Requirement already satisfied: executing>=1.2.0 in /home/vismaym/anaconda3/envs/kaolin5/lib/python3.9/site-packages (from stack-data->ipython>=6.1.0->ipywidgets<9.0.0,>=7.0.0->k3d) (2.0.1)\n",
      "Requirement already satisfied: asttokens>=2.1.0 in /home/vismaym/anaconda3/envs/kaolin5/lib/python3.9/site-packages (from stack-data->ipython>=6.1.0->ipywidgets<9.0.0,>=7.0.0->k3d) (2.4.1)\n",
      "Requirement already satisfied: pure-eval in /home/vismaym/anaconda3/envs/kaolin5/lib/python3.9/site-packages (from stack-data->ipython>=6.1.0->ipywidgets<9.0.0,>=7.0.0->k3d) (0.2.2)\n",
      "Requirement already satisfied: six>=1.12.0 in /home/vismaym/anaconda3/envs/kaolin5/lib/python3.9/site-packages (from asttokens>=2.1.0->stack-data->ipython>=6.1.0->ipywidgets<9.0.0,>=7.0.0->k3d) (1.16.0)\n"
     ]
    }
   ],
   "source": [
    "# Notebook requires k3d\n",
    "!pip install k3d"
   ]
  },
  {
   "cell_type": "code",
   "execution_count": 6,
   "id": "8c376c00-01a4-4055-b4d3-3dee0231b8e8",
   "metadata": {
    "tags": []
   },
   "outputs": [],
   "source": [
    "import os, sys, copy\n",
    "import logging\n",
    "from functools import partial\n",
    "import k3d\n",
    "\n",
    "from IPython.display import display\n",
    "from ipywidgets import Button, HBox, VBox\n",
    "from pathlib import Path\n",
    "sys.path.append(str(Path(\"..\")))\n",
    "\n",
    "import numpy as np\n",
    "import torch\n",
    "import kaolin as kal\n",
    "import kaolin.physics as physics\n",
    "from tutorial_common import COMMON_DATA_DIR\n",
    "\n",
    "logging.basicConfig(level=logging.DEBUG, stream=sys.stdout)\n",
    "logger = logging.getLogger(__name__)\n",
    "\n",
    "def sample_file_path(fname):\n",
    "    return os.path.join(COMMON_DATA_DIR, 'meshes', fname)\n",
    "\n",
    "def print_tensor(t, name='', **kwargs):\n",
    "    print(kal.utils.testing.tensor_info(t, name=name, **kwargs))\n",
    "    "
   ]
  },
  {
   "cell_type": "markdown",
   "id": "355e708c-7a29-4001-853e-8ca185dd1e98",
   "metadata": {},
   "source": [
    "## Import the muscle's volumetric sample points"
   ]
  },
  {
   "cell_type": "code",
   "execution_count": 16,
   "id": "540f34ff-7df9-409e-8d12-78e029cb6744",
   "metadata": {},
   "outputs": [
    {
     "data": {
      "application/vnd.jupyter.widget-view+json": {
       "model_id": "1eb8e5827c6e45d092f1418a02c05cbf",
       "version_major": 2,
       "version_minor": 0
      },
      "text/plain": [
       "Output()"
      ]
     },
     "metadata": {},
     "output_type": "display_data"
    }
   ],
   "source": [
    "so_pts = torch.load(sample_file_path(\"simple_muscle/simple_muscle_vol_pts.pt\"))/10 # rescales the muscle to fit simplicits units\n",
    "so_fibers = torch.load(sample_file_path(\"simple_muscle/simple_muscle_fibers.pt\"))\n",
    "\n",
    "# Manually zero-out bone fibers (bad model, also has fibers for bones)\n",
    "# TODO: Store material parameters per-pt in the data folder\n",
    "y_values = so_pts[:,1]\n",
    "indices = np.nonzero((y_values < -0.45) | (y_values > 0.45))[0] # bone indices\n",
    "so_fibers[indices,:] *= 0\n",
    "\n",
    "# Muscles should be soft (1e5 Pascals)\n",
    "so_yms = 1e5*torch.ones(so_pts.shape[0])\n",
    "# Bones should be harder (1e7 Pascals)\n",
    "so_yms[indices] *= 1e2\n",
    "so_prs = 0.45*torch.ones_like(so_yms)\n",
    "# Set densities to 100kg/m^3\n",
    "so_rhos = 100*torch.ones_like(so_yms)\n",
    "# Guess the approximate volume\n",
    "so_appx_vol = 0.3\n",
    "\n",
    "\n",
    "# Plot the musculoskeletal object using k3d\n",
    "# Middle portion is muscle. Ends are bones.\n",
    "plot = k3d.plot()\n",
    "plot += k3d.points(so_pts, point_size=0.01)\n",
    "plot.display()\n"
   ]
  },
  {
   "cell_type": "markdown",
   "id": "5529db3e-4462-4916-8297-2302c305ab69",
   "metadata": {},
   "source": [
    "## Train The Objects Using Simplicit's Training\n",
    "Set up the training parameters here"
   ]
  },
  {
   "cell_type": "code",
   "execution_count": 17,
   "id": "723fbe19-e60b-4089-be1d-d808f772763f",
   "metadata": {},
   "outputs": [
    {
     "name": "stderr",
     "output_type": "stream",
     "text": [
      "/tmp/ipykernel_790402/2635778751.py:22: UserWarning: To copy construct from a tensor, it is recommended to use sourceTensor.clone().detach() or sourceTensor.clone().detach().requires_grad_(True), rather than torch.tensor(sourceTensor).\n",
      "  so_rhos = torch.tensor(so_rhos, device=device, dtype=dtype).unsqueeze(-1)\n"
     ]
    },
    {
     "data": {
      "application/vnd.jupyter.widget-view+json": {
       "model_id": "02a2bd1ee3ad4be0856933645731625a",
       "version_major": 2,
       "version_minor": 0
      },
      "text/plain": [
       "Output()"
      ]
     },
     "metadata": {},
     "output_type": "display_data"
    }
   ],
   "source": [
    "NUM_HANDLES = 10\n",
    "NUM_STEPS = 15000\n",
    "LR_START = 1e-3\n",
    "NUM_SAMPLES = 1000\n",
    "device = 'cuda'\n",
    "dtype = torch.float32\n",
    "ENERGY_INTERP_LINSPACE = np.linspace(0, 1, NUM_STEPS, endpoint=False)\n",
    "so_model = physics.simplicits.network.SimplicitsMLP(spatial_dimensions=3, layer_width=64, num_handles=NUM_HANDLES, num_layers=8)\n",
    "so_optimizer = torch.optim.Adam(so_model.parameters(), LR_START)\n",
    "\n",
    "so_pts = torch.as_tensor(so_pts, device=device, dtype=dtype)\n",
    "so_yms = torch.as_tensor(so_yms, device=device, dtype=dtype).unsqueeze(-1)\n",
    "so_prs = torch.as_tensor(so_prs, device=device, dtype=dtype).unsqueeze(-1)\n",
    "so_fibers = torch.as_tensor(so_fibers, device=device, dtype=dtype)\n",
    "# Compute the L2 norm for each row\n",
    "row_norms = torch.norm(so_fibers, p=2, dim=1, keepdim=True)\n",
    "# Row-wise normalize the matrix\n",
    "so_fibers = so_fibers / row_norms\n",
    "# Replace NaNs with 0\n",
    "so_fibers = torch.nan_to_num(so_fibers, nan=0.0)\n",
    "\n",
    "so_rhos = torch.tensor(so_rhos, device=device, dtype=dtype).unsqueeze(-1)\n",
    "so_model.to(device)\n"
   ]
  },
  {
   "cell_type": "markdown",
   "id": "f9879622-309e-411c-984a-06236dd211c4",
   "metadata": {},
   "source": [
    "## Visualize the muscle fibers"
   ]
  },
  {
   "cell_type": "code",
   "execution_count": 26,
   "id": "50e99f39-bf59-4ef4-bf13-c8f6080562d7",
   "metadata": {},
   "outputs": [
    {
     "data": {
      "application/vnd.jupyter.widget-view+json": {
       "model_id": "b9baa161235b44a8a839360acf4e6574",
       "version_major": 2,
       "version_minor": 0
      },
      "text/plain": [
       "Output()"
      ]
     },
     "metadata": {},
     "output_type": "display_data"
    }
   ],
   "source": [
    "sample_indices = torch.randint(low=0, high=so_pts.shape[0], size=(200,), device=so_pts.device)\n",
    "# Create a K3D plot\n",
    "plot = k3d.plot()\n",
    "# Add points to the plot\n",
    "points = k3d.points(so_pts[sample_indices].cpu().detach().numpy(), point_size=0.01, color=0xff0000)\n",
    "plot += points\n",
    "\n",
    "# Add vectors to the plot\n",
    "for pt, vec in zip(so_pts[sample_indices].cpu().detach().numpy(), so_fibers[sample_indices].cpu().detach().numpy()):\n",
    "    vector = k3d.vectors(\n",
    "        origins=pt,\n",
    "        vectors=vec/10,\n",
    "        head_size=0.04,\n",
    "        line_width=0.001,\n",
    "        color=0x0000ff\n",
    "    )\n",
    "    plot += vector\n",
    "\n",
    "# Display the plot\n",
    "plot.display()"
   ]
  },
  {
   "cell_type": "markdown",
   "id": "9be43449-15f4-4d2f-a12d-49bdb6525189",
   "metadata": {},
   "source": [
    "# Proceed with training."
   ]
  },
  {
   "cell_type": "code",
   "execution_count": 18,
   "id": "f48f68a8-fb6d-4dfd-9940-1234542ff827",
   "metadata": {},
   "outputs": [
    {
     "name": "stdout",
     "output_type": "stream",
     "text": [
      "INFO:__main__:Log training step: 0, le: 10608.833984375, lo: 51378584.0\n",
      "INFO:__main__:Log training step: 1000, le: 551.618408203125, lo: 79997.640625\n",
      "INFO:__main__:Log training step: 2000, le: 1731.7459716796875, lo: 70407.7421875\n",
      "INFO:__main__:Log training step: 3000, le: 4097.6337890625, lo: 30867.69921875\n",
      "INFO:__main__:Log training step: 4000, le: 3674.044189453125, lo: 12731.5712890625\n",
      "INFO:__main__:Log training step: 5000, le: 3075.492431640625, lo: 5381.18359375\n",
      "INFO:__main__:Log training step: 6000, le: 2688.064208984375, lo: 3801.832763671875\n",
      "INFO:__main__:Log training step: 7000, le: 1842.1995849609375, lo: 4715.64892578125\n",
      "INFO:__main__:Log training step: 8000, le: 2076.769287109375, lo: 4850.09033203125\n",
      "INFO:__main__:Log training step: 9000, le: 2382.913330078125, lo: 3806.164794921875\n",
      "INFO:__main__:Log training step: 10000, le: 2084.185302734375, lo: 2911.77880859375\n",
      "INFO:__main__:Log training step: 11000, le: 2304.052001953125, lo: 3579.017578125\n",
      "INFO:__main__:Log training step: 12000, le: 2720.8642578125, lo: 4338.61767578125\n",
      "INFO:__main__:Log training step: 13000, le: 2140.43212890625, lo: 3026.517578125\n",
      "INFO:__main__:Log training step: 14000, le: 2741.446044921875, lo: 3701.004150390625\n"
     ]
    },
    {
     "data": {
      "text/plain": [
       "SimplicitsMLP(\n",
       "  (linear_elu_stack): Sequential(\n",
       "    (0): Linear(in_features=3, out_features=64, bias=True)\n",
       "    (1): ELU(alpha=1.0)\n",
       "    (2): Linear(in_features=64, out_features=64, bias=True)\n",
       "    (3): ELU(alpha=1.0)\n",
       "    (4): Linear(in_features=64, out_features=64, bias=True)\n",
       "    (5): ELU(alpha=1.0)\n",
       "    (6): Linear(in_features=64, out_features=64, bias=True)\n",
       "    (7): ELU(alpha=1.0)\n",
       "    (8): Linear(in_features=64, out_features=64, bias=True)\n",
       "    (9): ELU(alpha=1.0)\n",
       "    (10): Linear(in_features=64, out_features=64, bias=True)\n",
       "    (11): ELU(alpha=1.0)\n",
       "    (12): Linear(in_features=64, out_features=64, bias=True)\n",
       "    (13): ELU(alpha=1.0)\n",
       "    (14): Linear(in_features=64, out_features=64, bias=True)\n",
       "    (15): ELU(alpha=1.0)\n",
       "    (16): Linear(in_features=64, out_features=64, bias=True)\n",
       "    (17): ELU(alpha=1.0)\n",
       "    (18): Linear(in_features=64, out_features=10, bias=True)\n",
       "  )\n",
       ")"
      ]
     },
     "execution_count": 18,
     "metadata": {},
     "output_type": "execute_result"
    }
   ],
   "source": [
    "#train_step(step, model, optim, normalized_pts, yms, prs, rhos, BATCH_SIZE, NUM_HANDLES, APPX_VOL, NUM_SAMPLES, LE_COEFF, LO_COEFF)\n",
    "partial_train_step = partial(physics.simplicits.train_step, \n",
    "                             batch_size=10, \n",
    "                             num_handles=NUM_HANDLES, \n",
    "                             appx_vol=so_appx_vol, \n",
    "                             num_samples=NUM_SAMPLES, \n",
    "                             le_coeff=1e-1, \n",
    "                             lo_coeff=1e6)\n",
    "\n",
    "so_model.train()\n",
    "for i in range(15000):\n",
    "    #Set grads to zero\n",
    "    so_optimizer.zero_grad()\n",
    "    #train a step\n",
    "    le, lo = partial_train_step(so_model, so_pts, so_yms, so_prs, so_rhos, float(i/NUM_STEPS))\n",
    "    loss = le + lo\n",
    "    # Backprop over the losses\n",
    "    loss.backward()\n",
    "    # Take optimizer step\n",
    "    so_optimizer.step()\n",
    "    \n",
    "    if i%1000 == 0:\n",
    "        logger.info(f'Log training step: {i}, le: {le.item()}, lo: {lo.item()}')\n",
    "\n",
    "so_model.eval()"
   ]
  },
  {
   "cell_type": "markdown",
   "id": "a07d9339-8723-4d84-8564-67e13219a251",
   "metadata": {},
   "source": [
    "## Setup Simulation\n",
    "Setup a simple muscle simulation with all the following simulation parameters and precomputations."
   ]
  },
  {
   "cell_type": "code",
   "execution_count": 19,
   "id": "5c54eea8-db5f-447b-8813-fda23c369c5b",
   "metadata": {},
   "outputs": [
    {
     "name": "stdout",
     "output_type": "stream",
     "text": [
      " Density:  100.0kg/m^3\n",
      " Youngs Mod:  10000000.0Pa\n",
      " Poiss Ratio:  0.44999998807907104\n",
      " Appx Vol:  0.3m^3\n",
      "\n"
     ]
    }
   ],
   "source": [
    "NUM_STEPS = 100\n",
    "DT = 0.05\n",
    "FLOOR_PLANE = -1\n",
    "PENALTY_WEIGHT = 10000\n",
    "NUM_SAMPLES = 2000\n",
    "device = 'cuda'\n",
    "dtype = torch.float32\n",
    "MAX_NEWTON_STEPS=20\n",
    "MAX_LS_STEPS = 30\n",
    "\n",
    "sample_indices = torch.randint(low=0, high=so_pts.shape[0], size=(NUM_SAMPLES,), device=so_pts.device)\n",
    "\n",
    "sim_pts = so_pts[sample_indices]\n",
    "sim_normalized_pts = so_pts[sample_indices] #leave it the same as sim_pts\n",
    "sim_yms = 1*so_yms[sample_indices]\n",
    "sim_prs = so_prs[sample_indices]\n",
    "sim_rhos = 1*so_rhos[sample_indices]\n",
    "sim_weights = torch.cat((so_model(sim_normalized_pts), torch.ones((sim_normalized_pts.shape[0], 1), device=device)), dim=1)\n",
    "\n",
    "y_vals = sim_pts[:,1]\n",
    "indices = torch.nonzero((y_vals < -0.45) | (y_vals>0.45)).squeeze()\n",
    "sim_fiber_vecs = torch.tensor([0,1,0], device='cuda', dtype=torch.float).expand(NUM_SAMPLES,3).clone()\n",
    "sim_fiber_vecs[indices,:] =0\n",
    "model_plus_rigid = lambda pts: torch.cat((so_model(pts), torch.ones((pts.shape[0], 1), device=device)), dim=1)\n",
    "\n",
    "z = torch.zeros(sim_weights.shape[1]*12 , dtype=dtype, device = device).unsqueeze(-1)\n",
    "z_prev = z.clone().detach()\n",
    "z_dot = torch.zeros_like(z, device=device)\n",
    "x0_flat = sim_pts.flatten().unsqueeze(-1)\n",
    "\n",
    "\n",
    "M, invM = physics.simplicits.precomputed.lumped_mass_matrix(sim_rhos, so_appx_vol, dim = 3)\n",
    "dFdz = physics.simplicits.precomputed.jacobian_dF_dz(model_plus_rigid, sim_normalized_pts, z).detach()\n",
    "dxdz = torch.autograd.functional.jacobian(lambda x: physics.simplicits.utils.weight_function_lbs(sim_pts, tfms = x.reshape(-1,3,4).unsqueeze(0), fcn = model_plus_rigid).flatten(), z.flatten())\n",
    "bigI = torch.tile(torch.eye(3, device=device).flatten().unsqueeze(dim=1), (NUM_SAMPLES,1)).detach()\n",
    "B = physics.simplicits.precomputed.lbs_matrix(sim_pts, sim_weights).detach()\n",
    "\n",
    "# 3*num samples gravities per sample point\n",
    "grav = torch.tensor([0, 9.8, 0], device=device)\n",
    "\n",
    "BMB = B.T @ M @ B\n",
    "BinvMB = B.T @ invM @ B\n",
    "\n",
    "print(\" Density: \",str(sim_rhos[0].item())+\"kg/m^3\\n\", \n",
    "      \"Youngs Mod: \", str(sim_yms[0].item())+\"Pa\\n\", \n",
    "      \"Poiss Ratio: \", str(sim_prs[0].item())+\"\\n\", \n",
    "      \"Appx Vol: \", str(so_appx_vol)+\"m^3\\n\")"
   ]
  },
  {
   "cell_type": "code",
   "execution_count": 21,
   "id": "ec176e8d-5df8-480a-9384-bc4e604620c9",
   "metadata": {},
   "outputs": [],
   "source": [
    "#########################SETUP MATERIAL AND SCENE FORCES######################################################\n",
    "mus, lams = physics.materials.utils.to_lame(sim_yms, sim_prs)\n",
    "material_object = physics.materials.NeohookeanMaterial(sim_yms, sim_prs)\n",
    "muscle_object = physics.materials.MuscleMaterial(sim_fiber_vecs)\n",
    "gravity_object = physics.utils.Gravity(rhos=sim_rhos, acceleration=grav)\n",
    "floor_object = physics.utils.Floor(floor_height=FLOOR_PLANE, floor_axis=1)\n",
    "bdry_cond = physics.utils.Boundary()\n",
    "bdry_indx = torch.nonzero(sim_pts[:,1]>0.45, as_tuple=False).squeeze()\n",
    "bdry_pos = sim_pts[bdry_indx,:]\n",
    "bdry_cond.set_pinned_verts(bdry_indx, bdry_pos)\n",
    "integration_sampling = torch.tensor(so_appx_vol/NUM_SAMPLES, device=device, dtype=sim_pts.dtype)\n",
    "\n",
    "#######################Physics Energy, Forces, Hessians########################################################\n",
    "partial_bdry_e = physics.simplicits.simplicits_scene_forces.generate_fcn_simplicits_scene_energy(bdry_cond, B, coeff=PENALTY_WEIGHT, integration_sampling=None)\n",
    "partial_bdry_g = physics.simplicits.simplicits_scene_forces.generate_fcn_simplicits_scene_gradient(bdry_cond, B, coeff=PENALTY_WEIGHT, integration_sampling=None)\n",
    "partial_bdry_h = physics.simplicits.simplicits_scene_forces.generate_fcn_simplicits_scene_hessian(bdry_cond, B, coeff=PENALTY_WEIGHT, integration_sampling=None)\n",
    "\n",
    "partial_grav_e = physics.simplicits.simplicits_scene_forces.generate_fcn_simplicits_scene_energy(gravity_object, B, coeff=1, integration_sampling=integration_sampling) \n",
    "partial_grav_g = physics.simplicits.simplicits_scene_forces.generate_fcn_simplicits_scene_gradient(gravity_object, B, coeff=1, integration_sampling=integration_sampling) \n",
    "partial_grav_h = physics.simplicits.simplicits_scene_forces.generate_fcn_simplicits_scene_hessian(gravity_object, B, coeff=1, integration_sampling=integration_sampling) \n",
    "\n",
    "partial_material_e = physics.simplicits.simplicits_scene_forces.generate_fcn_simplicits_material_energy(material_object, dFdz, coeff=1, integration_sampling=integration_sampling)\n",
    "partial_material_g = physics.simplicits.simplicits_scene_forces.generate_fcn_simplicits_material_gradient(material_object, dFdz, coeff=1, integration_sampling=integration_sampling)\n",
    "partial_material_h = physics.simplicits.simplicits_scene_forces.generate_fcn_simplicits_material_hessian(material_object, dFdz, coeff=1, integration_sampling=integration_sampling)\n",
    "\n",
    "# Add the muscle energy, gradient, hessian to the lists of energies, grads, hessians\n",
    "partial_muscle_e = physics.simplicits.simplicits_scene_forces.generate_fcn_simplicits_material_energy(muscle_object, dFdz, coeff=1, integration_sampling=integration_sampling)\n",
    "partial_muscle_g = physics.simplicits.simplicits_scene_forces.generate_fcn_simplicits_material_gradient(muscle_object, dFdz, coeff=1, integration_sampling=integration_sampling)\n",
    "partial_muscle_h = physics.simplicits.simplicits_scene_forces.generate_fcn_simplicits_material_hessian(muscle_object, dFdz, coeff=1, integration_sampling=integration_sampling)\n",
    "\n",
    "partial_floor_e = physics.simplicits.simplicits_scene_forces.generate_fcn_simplicits_scene_energy(floor_object, B, coeff=PENALTY_WEIGHT, integration_sampling=None)\n",
    "partial_floor_g = physics.simplicits.simplicits_scene_forces.generate_fcn_simplicits_scene_gradient(floor_object, B, coeff=PENALTY_WEIGHT, integration_sampling=None)\n",
    "partial_floor_h = physics.simplicits.simplicits_scene_forces.generate_fcn_simplicits_scene_hessian(floor_object, B, coeff=PENALTY_WEIGHT, integration_sampling=None)\n",
    "###############################################################################\n",
    "\n",
    "####################Backwards Euler Functions###########################################################\n",
    "def potential_sum(output, z, z_dot, B, dFdz, x0_flat, bigI, defo_grad_fcns = [], pt_wise_fcns = []):\n",
    "    # updates the quantity calculated in the output value\n",
    "    F_ele = torch.matmul(dFdz, z) + bigI\n",
    "    x_flat = B @ z + x0_flat\n",
    "    x = x_flat.reshape(-1,3)\n",
    "    for e in defo_grad_fcns:\n",
    "        output += e(F_ele)\n",
    "    for e in pt_wise_fcns:\n",
    "        output += e(x)\n",
    "        \n",
    "def newton_E(z, z_prev, z_dot, B, BMB, dt, x0_flat, dFdz, bigI, defo_grad_energies = [], pt_wise_energies = []):\n",
    "    pe_sum = torch.tensor([0], device=device, dtype=dtype)\n",
    "    potential_sum(pe_sum, z, z_dot, B, dFdz, x0_flat, bigI, defo_grad_energies, pt_wise_energies)\n",
    "    return 0.5 * z.T @ BMB @ z - z.T @ BMB @ z_prev - dt * z.T @ BMB @ z_dot + dt * dt * pe_sum\n",
    "\n",
    "def newton_G(z, z_prev, z_dot, B, BMB, dt, x0_flat, dFdz, bigI, defo_grad_gradients = [], pt_wise_gradients = []):\n",
    "    pe_grad_sum = torch.zeros_like(z)\n",
    "    potential_sum(pe_grad_sum, z, z_dot, B, dFdz, x0_flat, bigI, defo_grad_gradients, pt_wise_gradients)\n",
    "    return BMB @ z - BMB @ z_prev - dt * BMB @ z_dot + dt * dt * pe_grad_sum\n",
    "\n",
    "def newton_H(z, z_prev, z_dot, B, BMB, dt, x0_flat, dFdz, bigI, defo_grad_hessians = [], pt_wise_hessians = []):\n",
    "    pe_hess_sum = torch.zeros(z.shape[0], z.shape[0], device=device, dtype=dtype)\n",
    "    potential_sum(pe_hess_sum, z, z_dot, B, dFdz, x0_flat, bigI, defo_grad_hessians, pt_wise_hessians)\n",
    "    return BMB  + dt * dt * pe_hess_sum\n",
    "    \n",
    "##########################Backwards Euler Partials#####################################################\n",
    "partial_newton_E = partial(newton_E, \n",
    "                           B=B.detach(), \n",
    "                           BMB = BMB.detach(), \n",
    "                           dt=DT, \n",
    "                           x0_flat=x0_flat.detach(), \n",
    "                           dFdz=dFdz.detach(), \n",
    "                           bigI=bigI.detach(),\n",
    "                           defo_grad_energies=[partial_material_e, partial_muscle_e],\n",
    "                           pt_wise_energies=[partial_grav_e, partial_floor_e, partial_bdry_e])\n",
    "partial_newton_G = partial(newton_G, \n",
    "                           B=B.detach(), \n",
    "                           BMB = BMB.detach(), \n",
    "                           dt=DT, \n",
    "                           x0_flat=x0_flat.detach(), \n",
    "                           dFdz=dFdz.detach(), \n",
    "                           bigI=bigI.detach(),\n",
    "                           defo_grad_gradients=[partial_material_g, partial_muscle_g],\n",
    "                           pt_wise_gradients=[partial_grav_g, partial_floor_g, partial_bdry_g])\n",
    "partial_newton_H = partial(newton_H, \n",
    "                           B=B.detach(), \n",
    "                           BMB = BMB.detach(), \n",
    "                           dt=DT, \n",
    "                           x0_flat=x0_flat.detach(), \n",
    "                           dFdz=dFdz.detach(), \n",
    "                           bigI=bigI.detach(),\n",
    "                           defo_grad_hessians=[partial_material_h, partial_muscle_h],\n",
    "                           pt_wise_hessians=[partial_grav_h, partial_floor_h, partial_bdry_h])"
   ]
  },
  {
   "cell_type": "markdown",
   "id": "0679490a-3664-47f0-af70-709cdecc7b2b",
   "metadata": {},
   "source": [
    "## Loading And Displaying Surface Mesh\n",
    "\n",
    "Simplicits results can be displayed in a variety of ways.\n",
    "For the purpose of this tutorial, we will use a mesh to visualize muscle contraction."
   ]
  },
  {
   "cell_type": "code",
   "execution_count": 23,
   "id": "4c13e6a0-8b51-4857-bf94-d6c39d659103",
   "metadata": {
    "tags": []
   },
   "outputs": [],
   "source": [
    "# Import and triangulate to enable rasterization; move to GPU\n",
    "mesh = kal.io.import_mesh(sample_file_path('simple_muscle/simple_muscle.obj')).cuda()\n",
    "    \n",
    "# Normalize so it is easy to set up default camera\n",
    "mesh.vertices = kal.ops.pointcloud.center_points(mesh.vertices.unsqueeze(0), normalize=True).squeeze(0) \n",
    "orig_vertices = mesh.vertices.clone()  # Also save original undeformed vertices\n"
   ]
  },
  {
   "cell_type": "markdown",
   "id": "064d9dcb-e0b0-4a71-bd20-a4ed3a72c303",
   "metadata": {},
   "source": [
    "## Visualizing Geometry\n",
    "\n",
    "Because we are working with a mesh, Kaolin already comes with an easy render function. To use any rendering function (such as a Gaussan splat renderer),\n",
    "simply define the following rendering functions that take `Camera` as input."
   ]
  },
  {
   "cell_type": "code",
   "execution_count": 24,
   "id": "174d9a37-e6c3-4ac1-9f1d-38104595d824",
   "metadata": {
    "tags": []
   },
   "outputs": [],
   "source": [
    "def render(in_cam, **kwargs):\n",
    "    render_res = kal.render.easy_render.render_mesh(in_cam, mesh, **kwargs)\n",
    "    img = render_res[kal.render.easy_render.RenderPass.render].squeeze(0).clamp(0, 1)\n",
    "\n",
    "    background_mask = (render_res[kal.render.easy_render.RenderPass.face_idx] < 0).bool()\n",
    "    img2 = torch.clamp(img, 0, 1)\n",
    "    img2[background_mask[0]] = 0 #background black\n",
    "    final = (img2 * 255.).to(torch.uint8)\n",
    "    \n",
    "    return final\n",
    "\n",
    "def fast_render(in_cam, factor=8):\n",
    "    lowres_cam = copy.deepcopy(in_cam)\n",
    "    lowres_cam.width = in_cam.width // factor\n",
    "    lowres_cam.height = in_cam.height // factor\n",
    "    return render(lowres_cam)\n",
    "    \n",
    "mesh.vertices = orig_vertices\n",
    "resolution = 512\n",
    "new_camera = kal.render.easy_render.default_camera(resolution).cuda()\n",
    "new_camera.extrinsics.move_forward(1)\n",
    "visualizer = kal.visualize.IpyTurntableVisualizer(\n",
    "    resolution, resolution, copy.deepcopy(new_camera), render, fast_render=fast_render,\n",
    "    max_fps=24, world_up_axis=1)"
   ]
  },
  {
   "cell_type": "markdown",
   "id": "6e2b8818-f309-4f99-ba55-276b561d7558",
   "metadata": {},
   "source": [
    "## Simulate Muscle Activation"
   ]
  },
  {
   "cell_type": "code",
   "execution_count": 25,
   "id": "9cc7b5f5-1b33-4f37-be20-81a0e88f712c",
   "metadata": {},
   "outputs": [
    {
     "data": {
      "application/vnd.jupyter.widget-view+json": {
       "model_id": "83cd42b0b6e74c8ab2c884ca041c4bec",
       "version_major": 2,
       "version_minor": 0
      },
      "text/plain": [
       "HBox(children=(Canvas(height=512, width=512), Button(description='Run Sim', style=ButtonStyle())))"
      ]
     },
     "metadata": {},
     "output_type": "display_data"
    },
    {
     "data": {
      "application/vnd.jupyter.widget-view+json": {
       "model_id": "3940f274ad7148cc84e8c75ac0ab1e1c",
       "version_major": 2,
       "version_minor": 0
      },
      "text/plain": [
       "Output()"
      ]
     },
     "metadata": {},
     "output_type": "display_data"
    }
   ],
   "source": [
    "z = torch.zeros(sim_weights.shape[1]*12 , dtype=dtype, device = device).unsqueeze(-1)\n",
    "z_prev = z.clone().detach()\n",
    "z_dot = torch.zeros_like(z, device=device).detach()\n",
    "x0_flat = sim_pts.flatten().unsqueeze(-1)\n",
    "muscle_object.set_activation(0)\n",
    "states = [z.clone().detach()]\n",
    "\n",
    "def run_sim():\n",
    "    global states, mesh, z, z_prev, z_dot, x0_flat, muscle_object, NUM_STEPS\n",
    "\n",
    "    for time_step in range(int(NUM_STEPS)):\n",
    "        # Activate linearly after 20 steps\n",
    "        if(time_step>20):\n",
    "            muscle_object.set_activation(((time_step-20)/(NUM_STEPS-20))*100000)\n",
    "            #pass\n",
    "        z_prev = z.clone().detach()\n",
    "        more_partial_newton_E = partial(partial_newton_E, z_prev=z_prev, z_dot=z_dot)\n",
    "        more_partial_newton_G = partial(partial_newton_G, z_prev=z_prev, z_dot=z_dot)\n",
    "        more_partial_newton_H = partial(partial_newton_H, z_prev=z_prev, z_dot=z_dot)\n",
    "        z = physics.utils.optimization.newtons_method(z, more_partial_newton_E, more_partial_newton_G, more_partial_newton_H, conv_criteria=1)\n",
    "        F_ele = torch.matmul(dFdz, z) + bigI\n",
    "        x_pts = (B @ z + x0_flat).reshape(-1,3)\n",
    "        logger.info(f'Floor E:{partial_floor_e(x_pts).item()}, Grav E:{partial_grav_e(x_pts).item()}, Bdry E:{partial_bdry_e(x_pts).item()}, Elastic E:{partial_material_e(F_ele).item()}, Muscle E:{partial_muscle_e(F_ele).item()}')\n",
    "        with torch.no_grad():\n",
    "            z_dot = (z - z_prev)/DT\n",
    "        states.append(z.clone().detach())\n",
    "        print(time_step)\n",
    "        with torch.no_grad():\n",
    "            x = physics.simplicits.utils.weight_function_lbs(orig_vertices, tfms = z.reshape(-1,3,4).unsqueeze(0), fcn = model_plus_rigid).squeeze()\n",
    "            mesh.vertices = x\n",
    "            visualizer.render_update()\n",
    "    print(\"done\")\n",
    "\n",
    "\n",
    "def start_simulation(b):\n",
    "    run_sim()\n",
    "\n",
    "button = Button(description='Run Sim')\n",
    "button.on_click(start_simulation)\n",
    "display(HBox([visualizer.canvas, button]), visualizer.out)"
   ]
  },
  {
   "cell_type": "code",
   "execution_count": null,
   "id": "cc1f069a-6697-498d-b186-5fd1e46ab744",
   "metadata": {},
   "outputs": [],
   "source": []
  }
 ],
 "metadata": {
  "kernelspec": {
   "display_name": "Python 3 (ipykernel)",
   "language": "python",
   "name": "python3"
  },
  "language_info": {
   "codemirror_mode": {
    "name": "ipython",
    "version": 3
   },
   "file_extension": ".py",
   "mimetype": "text/x-python",
   "name": "python",
   "nbconvert_exporter": "python",
   "pygments_lexer": "ipython3",
   "version": "3.9.19"
  }
 },
 "nbformat": 4,
 "nbformat_minor": 5
}
