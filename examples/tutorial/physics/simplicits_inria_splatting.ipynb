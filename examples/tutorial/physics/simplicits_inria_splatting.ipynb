{
 "cells": [
  {
   "cell_type": "markdown",
   "id": "6a627acd-442f-4cd5-a319-6258cc34edd4",
   "metadata": {},
   "source": [
    "# Simulating Gaussian Splats Using Simplicits\n",
    "Lets simulate some gaussian splat objects using [Simplicits](https://research.nvidia.com/labs/toronto-ai/simplicits/)  within the Jupyter notebook\n",
    "\n",
    "## Installation Requirements\n",
    "When installing [INRIA's splatting and rasterization code](https://github.com/graphdeco-inria/gaussian-splatting), make sure the paths and packages are setup correctly since we will need both Kaolin as well as INRIA's modules.\n",
    "\n",
    "For compatability with INRIA, we recommend using:\n",
    "- pytorch 2.0.1\n",
    "- cuda 11.8\n",
    "- mkl 2024.0\n",
    "- setuptools 69.5\n",
    "- matplotlib\n",
    "- plyfile"
   ]
  },
  {
   "cell_type": "markdown",
   "id": "4ed8318c-2fbd-472a-af77-dec18bd43eac",
   "metadata": {},
   "source": [
    "**Comment/uncomment below** to toggle installation of Inria's Gaussian Splatting into `examples/tutorial/physics/inria/`"
   ]
  },
  {
   "cell_type": "code",
   "execution_count": null,
   "id": "5f3ed4d1-4ac6-4b3c-a815-5cbdeaee0837",
   "metadata": {
    "scrolled": true
   },
   "outputs": [],
   "source": [
    "#### Setup and Installation ###\n",
    "\n",
    "### Install necessary packages\n",
    "!pip install -q plyfile k3d matplotlib\n",
    "\n",
    "### Create an inria folder\n",
    "%mkdir inria\n",
    "%cd inria\n",
    "\n",
    "### Clone the repo recursively\n",
    "!git clone --recursive https://github.com/graphdeco-inria/gaussian-splatting.git    \n",
    "\n",
    "### Install the submodules\n",
    "%cd gaussian-splatting\n",
    "!git checkout --recurse-submodules 472689c\n",
    "!pip install submodules/diff-gaussian-rasterization\n",
    "!pip install submodules/simple-knn"
   ]
  },
  {
   "cell_type": "markdown",
   "id": "5d7930b5-16f2-40c4-b0ef-db067d1d1849",
   "metadata": {},
   "source": [
    "### Check Location\n",
    "INRIA's gaussian splatting is not a package, so in order to use it we need to clone the repository and work within it.\n",
    "\n",
    "Make sure you're in the `..../kaolin/examples/tutorial/physics/inria/gaussian-splatting` directory. If not, `%cd` into it in order to be able to use their code.\n"
   ]
  },
  {
   "cell_type": "code",
   "execution_count": null,
   "id": "d2aefd1d-3545-4396-a8ee-5ff73fe67809",
   "metadata": {},
   "outputs": [],
   "source": [
    "# %cd inria/gaussian-splatting"
   ]
  },
  {
   "cell_type": "code",
   "execution_count": null,
   "id": "23f40655-f21d-4619-a23d-e3fa2c86d1ff",
   "metadata": {},
   "outputs": [],
   "source": [
    "# Gaussian splatting dependencies\n",
    "from utils.graphics_utils import focal2fov\n",
    "from utils.system_utils import searchForMaxIteration\n",
    "from gaussian_renderer import render, GaussianModel\n",
    "from scene.cameras import Camera as GSCamera\n",
    "from utils.general_utils import strip_symmetric, build_scaling_rotation\n",
    "%pwd"
   ]
  },
  {
   "cell_type": "markdown",
   "id": "f652d938-bcfb-498d-9407-8563f1645227",
   "metadata": {},
   "source": [
    "## Pre-trained Splats from AWS\n",
    "Lets grab a few pre-trained gaussian splat models from AWS.\n",
    "We can unzip and set the splat model path below to the correct `.ply` file."
   ]
  },
  {
   "cell_type": "code",
   "execution_count": null,
   "id": "b5154170-a133-4df5-816a-1fdeb87788ac",
   "metadata": {},
   "outputs": [],
   "source": [
    "# Download and unzip the nerfsynthetic bulldozer\n",
    "!if test -d output/dozer; then echo \"Pretrained splats already exist.\"; else wget https://nvidia-kaolin.s3.us-east-2.amazonaws.com/data/dozer.zip -P output/; unzip output/dozer.zip -d output/; fi;\n",
    "model_path = 'output/dozer/point_cloud/iteration_30000/point_cloud.ply'"
   ]
  },
  {
   "cell_type": "markdown",
   "id": "74dba058-4a2d-47f7-ada4-671a26a3cad5",
   "metadata": {},
   "source": [
    "## Load and Display the Splats Model Using Kaolin\n",
    "After the setup, we can use kaolin to load and display the splat model within the Jupyter notebook."
   ]
  },
  {
   "cell_type": "code",
   "execution_count": null,
   "id": "73c496c5-1768-4990-bc1a-b9cdad751066",
   "metadata": {},
   "outputs": [],
   "source": [
    "import copy\n",
    "import ipywidgets\n",
    "import json\n",
    "import kaolin\n",
    "\n",
    "import matplotlib.pyplot as plt\n",
    "import numpy as np\n",
    "import os\n",
    "import logging\n",
    "import sys\n",
    "import time\n",
    "import threading  \n",
    "import k3d\n",
    "from pathlib import Path\n",
    "from functools import partial\n",
    "\n",
    "\n",
    "import torch\n",
    "import torchvision\n",
    "\n",
    "from IPython.display import display\n",
    "from ipywidgets import Button, HBox, VBox\n",
    "\n",
    "logging.basicConfig(level=logging.INFO, stream=sys.stdout)\n",
    "logger = logging.getLogger(__name__)\n",
    "\n",
    "def log_tensor(t, name, **kwargs):\n",
    "    print(kaolin.utils.testing.tensor_info(t, name=name, **kwargs))\n"
   ]
  },
  {
   "cell_type": "code",
   "execution_count": null,
   "id": "ad5a0418-ba7f-4b84-9833-72093f120cf5",
   "metadata": {
    "scrolled": true
   },
   "outputs": [],
   "source": [
    "class PipelineParamsNoparse:\n",
    "    \"\"\" Same as PipelineParams but without argument parser. \"\"\"\n",
    "    def __init__(self):\n",
    "        self.convert_SHs_python = False\n",
    "        self.compute_cov3D_python = True # covariances will be updated during simulation\n",
    "        self.debug = False\n",
    "\n",
    "def load_model(model_path, sh_degree=3, iteration=-1):\n",
    "    # Load guassians\n",
    "    gaussians = GaussianModel(sh_degree)\n",
    "    gaussians.load_ply(model_path)                                                 \n",
    "    return gaussians\n",
    "\n",
    "gaussians = load_model(model_path)\n",
    "pipeline = PipelineParamsNoparse()\n",
    "background = torch.tensor([1, 1, 1], dtype=torch.float32, device=\"cuda\") # Set white bg"
   ]
  },
  {
   "cell_type": "markdown",
   "id": "14852d04-c7b5-4d64-ae16-91f0c6e642bc",
   "metadata": {},
   "source": [
    "## Render Using Kaolin Camera Conventions\n",
    "\n",
    "In order to easily view splats in the notebook, let's set up Gaussian Splat rendering using Kaolin Camera conventions."
   ]
  },
  {
   "cell_type": "code",
   "execution_count": null,
   "id": "1005f2fc-f59d-430c-a4c5-70d7894edca8",
   "metadata": {},
   "outputs": [],
   "source": [
    "resolution=512\n",
    "static_scene_kalcam = kaolin.render.easy_render.default_camera(resolution)\n",
    "\n",
    "# Change coordinate system since INRIA's convention uses z-axis as the up axis.  \n",
    "static_scene_kalcam.extrinsics.change_coordinate_system(torch.tensor([[1,0,0],[0,0,-1], [0,1,0]]))\n",
    "static_scene_kalcam.intrinsics.zoom(-50)\n",
    "\n",
    "def render_kaolin(kaolin_cam):\n",
    "    cam = kaolin.render.camera.kaolin_camera_to_gsplats(kaolin_cam, GSCamera)\n",
    "    render_res = render(cam, gaussians, pipeline, background)\n",
    "    rendering = render_res[\"render\"]\n",
    "    return (torch.clamp(rendering.permute(1, 2, 0), 0, 1) * 255).to(torch.uint8).detach().cpu()\n",
    "\n",
    "focus_at = (static_scene_kalcam.cam_pos() - 4. * static_scene_kalcam.extrinsics.cam_forward()).squeeze()\n",
    "static_scene_viz = kaolin.visualize.IpyTurntableVisualizer(\n",
    "    resolution, resolution, copy.deepcopy(static_scene_kalcam), render_kaolin, \n",
    "    focus_at=None, world_up_axis=2, max_fps=12)\n",
    "static_scene_viz.show()"
   ]
  },
  {
   "cell_type": "markdown",
   "id": "c0703b2d-4944-4f7c-8197-be14011a74c7",
   "metadata": {},
   "source": [
    "## Create a Simplicits Object and Train\n",
    "[Simplicits](https://research.nvidia.com/labs/toronto-ai/simplicits/) is a mesh-free, representation-agnostic way to simulation elastic deformations. We can use it to simulate Gaussian Splats at interactive rates within the jupyter notebook.\n",
    "\n",
    "Use the simplicits `easy_api` to create, train and simulate a simplicits object.\n",
    "\n",
    "First lets set some material parameters"
   ]
  },
  {
   "cell_type": "code",
   "execution_count": null,
   "id": "cfe06442-79cd-45c1-92c0-78395a847bbd",
   "metadata": {},
   "outputs": [],
   "source": [
    "# Physics material parameters. \n",
    "# Use some approximated values, or look them up online.\n",
    "soft_youngs_modulus = 21000\n",
    "poisson_ratio = 0.45\n",
    "rho = 100  # kg/m^3\n",
    "approx_volume = 3  # m^3"
   ]
  },
  {
   "cell_type": "markdown",
   "id": "02e574e8-8d2f-4cf3-a19d-9f3cda7fcc9d",
   "metadata": {},
   "source": [
    "### Densifying Splat Volume\n",
    "Sample the volume of the splat object using our novel densifier method."
   ]
  },
  {
   "cell_type": "code",
   "execution_count": null,
   "id": "1d2bd1c6-727e-4183-bf80-618d1283796d",
   "metadata": {},
   "outputs": [],
   "source": [
    "densified_pos = kaolin.ops.gaussian.sample_points_in_volume(xyz=gaussians.get_xyz.clone().detach().cuda(), \n",
    "                                            scale=gaussians.get_scaling.clone().detach().cuda(),\n",
    "                                            rotation=gaussians.get_rotation.clone().detach().cuda(),\n",
    "                                            opacity=gaussians.get_opacity.clone().detach().cuda(),\n",
    "                                            clip_samples_to_input_bbox=False)\n",
    "\n",
    "\n",
    "# Points sampled over the object's volume\n",
    "splat_pos = gaussians.get_xyz.clone().detach().cuda()\n",
    "pos = densified_pos       \n",
    "yms = torch.full((pos.shape[0],), soft_youngs_modulus, device=\"cuda\")\n",
    "prs = torch.full((pos.shape[0],), poisson_ratio, device=\"cuda\")\n",
    "rhos = torch.full((pos.shape[0],), rho, device=\"cuda\")\n",
    "\n",
    "plot = k3d.plot()\n",
    "plot += k3d.points(densified_pos.cpu().detach().numpy(), point_size=0.01)\n",
    "plot += k3d.points(splat_pos.cpu().detach().numpy(), point_size=0.01)\n",
    "plot.display()"
   ]
  },
  {
   "cell_type": "markdown",
   "id": "a807d1eb-1be5-4464-82c8-0146a804fd36",
   "metadata": {},
   "source": [
    "### Training\n",
    "Next we create a `SimplicitsObject` and train its skinning weight functions."
   ]
  },
  {
   "cell_type": "code",
   "execution_count": null,
   "id": "f98f86e8-5c78-4f0f-9547-d11e46a15721",
   "metadata": {
    "scrolled": true
   },
   "outputs": [],
   "source": [
    "sim_obj = kaolin.physics.simplicits.SimplicitsObject(pos, yms, prs, rhos, torch.tensor([approx_volume], dtype=torch.float32, device=\"cuda\"), num_samples=2048, model_layers=10, num_handles=40)\n",
    "print('Training simplicits object. This will take 2-3min. ')\n",
    "start = time.time()\n",
    "sim_obj.train(num_steps=20000)\n",
    "end = time.time()\n",
    "print(f\"Ends training in {end-start} seconds\")\n",
    "\n",
    "# sim_obj.save_model(\"../dozer_model.pt\")\n",
    "# sim_obj.load_model(\"../dozer_model.pt\")"
   ]
  },
  {
   "cell_type": "markdown",
   "id": "4f4723ae-47f9-40cd-b421-e8355367f886",
   "metadata": {},
   "source": [
    "## Setup Scene Using Simplicits Easy API\n",
    "Lets create an empty scene with default parameters, then reset the max number of newton steps to 5 for faster runtimes."
   ]
  },
  {
   "cell_type": "code",
   "execution_count": null,
   "id": "570eba83-c02f-470d-b56a-c696798738f9",
   "metadata": {},
   "outputs": [],
   "source": [
    "scene = kaolin.physics.simplicits.SimplicitsScene() # Create a default scene # default empty scene\n",
    "scene.max_newton_steps = 3 #Convergence might not be guaranteed at few NM iterations, but runs very fast"
   ]
  },
  {
   "cell_type": "markdown",
   "id": "1d6f45f7-f7ff-4b9d-b27a-0a23a4d13f70",
   "metadata": {},
   "source": [
    "Now we add our object to the scene. We use 2048 cubature points to integrate over."
   ]
  },
  {
   "cell_type": "code",
   "execution_count": null,
   "id": "c81b9030-e2de-4686-800c-0e16ab9240c4",
   "metadata": {},
   "outputs": [],
   "source": [
    "# The scene copies it into an internal SimulatableObject utility class\n",
    "obj_idx = scene.add_object(sim_obj, num_cub_pts=2048)"
   ]
  },
  {
   "cell_type": "markdown",
   "id": "199c2abc-96f5-45de-90af-220cedeb9e53",
   "metadata": {},
   "source": [
    "Lets set set gravity and floor forces on the scene"
   ]
  },
  {
   "cell_type": "code",
   "execution_count": null,
   "id": "07868367-8b1a-4d38-8bfb-8227a1bda5e0",
   "metadata": {},
   "outputs": [],
   "source": [
    "# Add gravity to the scene\n",
    "scene.set_scene_gravity(acc_gravity=torch.tensor([0, 0, 9.8]))\n",
    "# Add floor to the scene\n",
    "scene.set_scene_floor(floor_height=-0.7, floor_axis=2, floor_penalty=1000, flip_floor=False)"
   ]
  },
  {
   "cell_type": "markdown",
   "id": "2d560e57-f5fc-4afc-9999-b259aa20f2f0",
   "metadata": {},
   "source": [
    "We can play around with the material parameters of the object, indicated via object_idx"
   ]
  },
  {
   "cell_type": "code",
   "execution_count": null,
   "id": "84afa72b-8d4f-443c-b8d2-57f287321e7c",
   "metadata": {},
   "outputs": [],
   "source": [
    "# Make the object softer by updating the material parameter\n",
    "scene.set_object_materials(obj_idx, yms=torch.tensor(15000, device='cuda', dtype=torch.float))\n",
    "scene.set_object_materials(obj_idx, rhos=torch.tensor(100, device='cuda', dtype=torch.float))"
   ]
  },
  {
   "cell_type": "markdown",
   "id": "0a8825aa-105e-4388-b022-4edab72cfadf",
   "metadata": {},
   "source": [
    "Finally we can add a boundary condition to fix the bottom of the splats. Comment this cell out if you want to skip having a boundary condition."
   ]
  },
  {
   "cell_type": "code",
   "execution_count": null,
   "id": "5b7aa6bb-9862-429f-b7ee-f9852c3ac186",
   "metadata": {},
   "outputs": [],
   "source": [
    "def boundary_func(pts):\n",
    "    # Extract the z-coordinates (height) of the points\n",
    "    heights = pts[:, 2]\n",
    "    # Determine the minimum and maximum z-coordinates\n",
    "    z_min = torch.min(heights)\n",
    "    z_max = torch.max(heights)\n",
    "    # Calculate the threshold z-coordinate for the bottom 5% of the object's height\n",
    "    threshold = z_min + 0.08 * (z_max - z_min)\n",
    "    # Get the indices of the points in the upper 10%\n",
    "    return heights <= threshold\n",
    "\n",
    "boundary = scene.set_object_boundary_condition(obj_idx, \"boundary1\", boundary_func, bdry_penalty=10000)"
   ]
  },
  {
   "cell_type": "markdown",
   "id": "d4368abe-41ac-44f1-9433-6751df4495e8",
   "metadata": {},
   "source": [
    "## Thats it! Now lets simulate the splats\n",
    "As the splats deform, we must update their scale, rotation via the deformation gradient."
   ]
  },
  {
   "cell_type": "code",
   "execution_count": null,
   "id": "17e99666-a0db-48c0-8d8b-cb0cd3908b40",
   "metadata": {},
   "outputs": [],
   "source": [
    "def build_covariance_from_scaling_rotation_deformations(scaling, scaling_modifier, rotation, defo_grad=None):\n",
    "    L = build_scaling_rotation(scaling_modifier * scaling, rotation)\n",
    "    if defo_grad==None:\n",
    "        FL = L\n",
    "    else:\n",
    "        FL = torch.bmm(defo_grad, L)\n",
    "    actual_covariance = FL @ FL.transpose(1, 2)\n",
    "    symm = strip_symmetric(actual_covariance)\n",
    "    return symm\n",
    "\n",
    "gaussians.covariance_activation = build_covariance_from_scaling_rotation_deformations"
   ]
  },
  {
   "cell_type": "markdown",
   "id": "b9bd479b-c617-44bf-8573-9a7ffe05f9ad",
   "metadata": {},
   "source": [
    "Next we display the simulation using the splat's original points for display."
   ]
  },
  {
   "cell_type": "code",
   "execution_count": null,
   "id": "08e353fd-1d27-4ddb-ad11-4c77fb0f8c11",
   "metadata": {},
   "outputs": [],
   "source": [
    "def fast_render(in_cam, factor=8):\n",
    "    lowres_cam = copy.deepcopy(in_cam)\n",
    "    lowres_cam.width = in_cam.width // factor\n",
    "    lowres_cam.height = in_cam.height // factor\n",
    "    return render(lowres_cam)\n",
    "\n",
    "global sim_thread_open, sim_thread\n",
    "sim_thread_open = False\n",
    "sim_thread = None\n",
    "\n",
    "def run_sim():\n",
    "    for s in range(int(100)):\n",
    "        with new_vis.out:\n",
    "            scene.run_sim_step()\n",
    "            print(\".\", end=\"\")\n",
    "            with torch.no_grad():\n",
    "                gaussians._xyz = scene.get_object_deformed_pts(obj_idx, splat_pos).squeeze()\n",
    "                F = scene.get_object_deformation_gradient(obj_idx, splat_pos).squeeze()\n",
    "                build_cov = partial(build_covariance_from_scaling_rotation_deformations, defo_grad=F)\n",
    "                gaussians.covariance_activation = build_cov\n",
    "        new_vis.render_update()\n",
    "\n",
    "def start_simulation(b):\n",
    "    global sim_thread_open, sim_thread\n",
    "    with new_vis.out:\n",
    "        if(sim_thread_open):\n",
    "            sim_thread.join()\n",
    "            sim_thread_open = False\n",
    "        sim_thread_open = True\n",
    "        sim_thread = threading.Thread(target=run_sim, daemon=True)\n",
    "        sim_thread.start()\n",
    "\n",
    "scene.reset()\n",
    "new_kal_cam = kaolin.render.easy_render.default_camera(resolution)\n",
    "new_kal_cam.extrinsics.change_coordinate_system(torch.tensor([[1,0,0],[0,0,-1], [0,1,0]]))\n",
    "new_kal_cam.intrinsics.zoom(-50)\n",
    "\n",
    "button = Button(description='Run Sim')\n",
    "button.on_click(start_simulation)\n",
    "\n",
    "new_vis = kaolin.visualize.IpyTurntableVisualizer(\n",
    "    512, 512, copy.deepcopy(new_kal_cam), render_kaolin, \n",
    "    focus_at=gaussians._xyz.mean().cpu(), world_up_axis=2, max_fps=6)\n",
    "new_vis.render_update()\n",
    "display(HBox([new_vis.canvas, button]), new_vis.out)"
   ]
  }
 ],
 "metadata": {
  "kernelspec": {
   "display_name": "Python 3 (ipykernel)",
   "language": "python",
   "name": "python3"
  },
  "language_info": {
   "codemirror_mode": {
    "name": "ipython",
    "version": 3
   },
   "file_extension": ".py",
   "mimetype": "text/x-python",
   "name": "python",
   "nbconvert_exporter": "python",
   "pygments_lexer": "ipython3",
   "version": "3.12.4"
  }
 },
 "nbformat": 4,
 "nbformat_minor": 5
}
